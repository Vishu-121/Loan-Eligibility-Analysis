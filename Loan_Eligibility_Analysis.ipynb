{
  "nbformat": 4,
  "nbformat_minor": 0,
  "metadata": {
    "colab": {
      "name": "Loan Eligibility Analysis.ipynb",
      "provenance": [],
      "collapsed_sections": [],
      "authorship_tag": "ABX9TyOcATwPhIZZ0O1ie28NgAlS",
      "include_colab_link": true
    },
    "kernelspec": {
      "name": "python3",
      "display_name": "Python 3"
    },
    "language_info": {
      "name": "python"
    }
  },
  "cells": [
    {
      "cell_type": "markdown",
      "metadata": {
        "id": "view-in-github",
        "colab_type": "text"
      },
      "source": [
        "<a href=\"https://colab.research.google.com/github/Vishu-121/Loan-Eligibility-Analysis/blob/main/Loan_Eligibility_Analysis.ipynb\" target=\"_parent\"><img src=\"https://colab.research.google.com/assets/colab-badge.svg\" alt=\"Open In Colab\"/></a>"
      ]
    },
    {
      "cell_type": "markdown",
      "source": [
        "I perform some major analysis on dataset (having details of many persons), which helps to predict the further outcomes that are fruitful for any organisation."
      ],
      "metadata": {
        "id": "xX1-oCYUdTqi"
      }
    },
    {
      "cell_type": "code",
      "execution_count": null,
      "metadata": {
        "colab": {
          "base_uri": "https://localhost:8080/"
        },
        "id": "7iiuzcBgNgr8",
        "outputId": "9bec762a-779c-4a4a-e0c4-5c2424ec3896"
      },
      "outputs": [
        {
          "output_type": "stream",
          "name": "stdout",
          "text": [
            "Mounted at /content/drive\n"
          ]
        }
      ],
      "source": [
        "#Importing drive-library from colab module\n",
        "from google.colab import drive\n",
        "drive.mount(\"/content/drive\")"
      ]
    },
    {
      "cell_type": "code",
      "source": [
        "#Importing Pandas library\n",
        "import pandas as pd\n",
        "df=pd.read_csv(\"/content/drive/MyDrive/Colab Notebooks/People info(Loan Prediction).csv\")\n",
        "df"
      ],
      "metadata": {
        "id": "OP4fainSOIr1",
        "outputId": "27cd0939-6cdd-41a0-d265-f70db7269d8c",
        "colab": {
          "base_uri": "https://localhost:8080/",
          "height": 485
        }
      },
      "execution_count": null,
      "outputs": [
        {
          "output_type": "execute_result",
          "data": {
            "text/plain": [
              "      Loan_ID  Gender Married Dependents     Education Self_Employed  \\\n",
              "0    LP001002    Male      No          0      Graduate            No   \n",
              "1    LP001003    Male     Yes          1      Graduate            No   \n",
              "2    LP001005    Male     Yes          0      Graduate           Yes   \n",
              "3    LP001006    Male     Yes          0  Not Graduate            No   \n",
              "4    LP001008    Male      No          0      Graduate            No   \n",
              "..        ...     ...     ...        ...           ...           ...   \n",
              "609  LP002978  Female      No          0      Graduate            No   \n",
              "610  LP002979    Male     Yes         3+      Graduate            No   \n",
              "611  LP002983    Male     Yes          1      Graduate            No   \n",
              "612  LP002984    Male     Yes          2      Graduate            No   \n",
              "613  LP002990  Female      No          0      Graduate           Yes   \n",
              "\n",
              "     ApplicantIncome  CoapplicantIncome  LoanAmount  Loan_Amount_Term  \\\n",
              "0               5849                0.0         NaN             360.0   \n",
              "1               4583             1508.0       128.0             360.0   \n",
              "2               3000                0.0        66.0             360.0   \n",
              "3               2583             2358.0       120.0             360.0   \n",
              "4               6000                0.0       141.0             360.0   \n",
              "..               ...                ...         ...               ...   \n",
              "609             2900                0.0        71.0             360.0   \n",
              "610             4106                0.0        40.0             180.0   \n",
              "611             8072              240.0       253.0             360.0   \n",
              "612             7583                0.0       187.0             360.0   \n",
              "613             4583                0.0       133.0             360.0   \n",
              "\n",
              "     Credit_History Property_Area Loan_Status  \n",
              "0               1.0         Urban           Y  \n",
              "1               1.0         Rural           N  \n",
              "2               1.0         Urban           Y  \n",
              "3               1.0         Urban           Y  \n",
              "4               1.0         Urban           Y  \n",
              "..              ...           ...         ...  \n",
              "609             1.0         Rural           Y  \n",
              "610             1.0         Rural           Y  \n",
              "611             1.0         Urban           Y  \n",
              "612             1.0         Urban           Y  \n",
              "613             0.0     Semiurban           N  \n",
              "\n",
              "[614 rows x 13 columns]"
            ],
            "text/html": [
              "\n",
              "  <div id=\"df-5a32a77b-f4ec-4a04-9159-4dcf48d10f4e\">\n",
              "    <div class=\"colab-df-container\">\n",
              "      <div>\n",
              "<style scoped>\n",
              "    .dataframe tbody tr th:only-of-type {\n",
              "        vertical-align: middle;\n",
              "    }\n",
              "\n",
              "    .dataframe tbody tr th {\n",
              "        vertical-align: top;\n",
              "    }\n",
              "\n",
              "    .dataframe thead th {\n",
              "        text-align: right;\n",
              "    }\n",
              "</style>\n",
              "<table border=\"1\" class=\"dataframe\">\n",
              "  <thead>\n",
              "    <tr style=\"text-align: right;\">\n",
              "      <th></th>\n",
              "      <th>Loan_ID</th>\n",
              "      <th>Gender</th>\n",
              "      <th>Married</th>\n",
              "      <th>Dependents</th>\n",
              "      <th>Education</th>\n",
              "      <th>Self_Employed</th>\n",
              "      <th>ApplicantIncome</th>\n",
              "      <th>CoapplicantIncome</th>\n",
              "      <th>LoanAmount</th>\n",
              "      <th>Loan_Amount_Term</th>\n",
              "      <th>Credit_History</th>\n",
              "      <th>Property_Area</th>\n",
              "      <th>Loan_Status</th>\n",
              "    </tr>\n",
              "  </thead>\n",
              "  <tbody>\n",
              "    <tr>\n",
              "      <th>0</th>\n",
              "      <td>LP001002</td>\n",
              "      <td>Male</td>\n",
              "      <td>No</td>\n",
              "      <td>0</td>\n",
              "      <td>Graduate</td>\n",
              "      <td>No</td>\n",
              "      <td>5849</td>\n",
              "      <td>0.0</td>\n",
              "      <td>NaN</td>\n",
              "      <td>360.0</td>\n",
              "      <td>1.0</td>\n",
              "      <td>Urban</td>\n",
              "      <td>Y</td>\n",
              "    </tr>\n",
              "    <tr>\n",
              "      <th>1</th>\n",
              "      <td>LP001003</td>\n",
              "      <td>Male</td>\n",
              "      <td>Yes</td>\n",
              "      <td>1</td>\n",
              "      <td>Graduate</td>\n",
              "      <td>No</td>\n",
              "      <td>4583</td>\n",
              "      <td>1508.0</td>\n",
              "      <td>128.0</td>\n",
              "      <td>360.0</td>\n",
              "      <td>1.0</td>\n",
              "      <td>Rural</td>\n",
              "      <td>N</td>\n",
              "    </tr>\n",
              "    <tr>\n",
              "      <th>2</th>\n",
              "      <td>LP001005</td>\n",
              "      <td>Male</td>\n",
              "      <td>Yes</td>\n",
              "      <td>0</td>\n",
              "      <td>Graduate</td>\n",
              "      <td>Yes</td>\n",
              "      <td>3000</td>\n",
              "      <td>0.0</td>\n",
              "      <td>66.0</td>\n",
              "      <td>360.0</td>\n",
              "      <td>1.0</td>\n",
              "      <td>Urban</td>\n",
              "      <td>Y</td>\n",
              "    </tr>\n",
              "    <tr>\n",
              "      <th>3</th>\n",
              "      <td>LP001006</td>\n",
              "      <td>Male</td>\n",
              "      <td>Yes</td>\n",
              "      <td>0</td>\n",
              "      <td>Not Graduate</td>\n",
              "      <td>No</td>\n",
              "      <td>2583</td>\n",
              "      <td>2358.0</td>\n",
              "      <td>120.0</td>\n",
              "      <td>360.0</td>\n",
              "      <td>1.0</td>\n",
              "      <td>Urban</td>\n",
              "      <td>Y</td>\n",
              "    </tr>\n",
              "    <tr>\n",
              "      <th>4</th>\n",
              "      <td>LP001008</td>\n",
              "      <td>Male</td>\n",
              "      <td>No</td>\n",
              "      <td>0</td>\n",
              "      <td>Graduate</td>\n",
              "      <td>No</td>\n",
              "      <td>6000</td>\n",
              "      <td>0.0</td>\n",
              "      <td>141.0</td>\n",
              "      <td>360.0</td>\n",
              "      <td>1.0</td>\n",
              "      <td>Urban</td>\n",
              "      <td>Y</td>\n",
              "    </tr>\n",
              "    <tr>\n",
              "      <th>...</th>\n",
              "      <td>...</td>\n",
              "      <td>...</td>\n",
              "      <td>...</td>\n",
              "      <td>...</td>\n",
              "      <td>...</td>\n",
              "      <td>...</td>\n",
              "      <td>...</td>\n",
              "      <td>...</td>\n",
              "      <td>...</td>\n",
              "      <td>...</td>\n",
              "      <td>...</td>\n",
              "      <td>...</td>\n",
              "      <td>...</td>\n",
              "    </tr>\n",
              "    <tr>\n",
              "      <th>609</th>\n",
              "      <td>LP002978</td>\n",
              "      <td>Female</td>\n",
              "      <td>No</td>\n",
              "      <td>0</td>\n",
              "      <td>Graduate</td>\n",
              "      <td>No</td>\n",
              "      <td>2900</td>\n",
              "      <td>0.0</td>\n",
              "      <td>71.0</td>\n",
              "      <td>360.0</td>\n",
              "      <td>1.0</td>\n",
              "      <td>Rural</td>\n",
              "      <td>Y</td>\n",
              "    </tr>\n",
              "    <tr>\n",
              "      <th>610</th>\n",
              "      <td>LP002979</td>\n",
              "      <td>Male</td>\n",
              "      <td>Yes</td>\n",
              "      <td>3+</td>\n",
              "      <td>Graduate</td>\n",
              "      <td>No</td>\n",
              "      <td>4106</td>\n",
              "      <td>0.0</td>\n",
              "      <td>40.0</td>\n",
              "      <td>180.0</td>\n",
              "      <td>1.0</td>\n",
              "      <td>Rural</td>\n",
              "      <td>Y</td>\n",
              "    </tr>\n",
              "    <tr>\n",
              "      <th>611</th>\n",
              "      <td>LP002983</td>\n",
              "      <td>Male</td>\n",
              "      <td>Yes</td>\n",
              "      <td>1</td>\n",
              "      <td>Graduate</td>\n",
              "      <td>No</td>\n",
              "      <td>8072</td>\n",
              "      <td>240.0</td>\n",
              "      <td>253.0</td>\n",
              "      <td>360.0</td>\n",
              "      <td>1.0</td>\n",
              "      <td>Urban</td>\n",
              "      <td>Y</td>\n",
              "    </tr>\n",
              "    <tr>\n",
              "      <th>612</th>\n",
              "      <td>LP002984</td>\n",
              "      <td>Male</td>\n",
              "      <td>Yes</td>\n",
              "      <td>2</td>\n",
              "      <td>Graduate</td>\n",
              "      <td>No</td>\n",
              "      <td>7583</td>\n",
              "      <td>0.0</td>\n",
              "      <td>187.0</td>\n",
              "      <td>360.0</td>\n",
              "      <td>1.0</td>\n",
              "      <td>Urban</td>\n",
              "      <td>Y</td>\n",
              "    </tr>\n",
              "    <tr>\n",
              "      <th>613</th>\n",
              "      <td>LP002990</td>\n",
              "      <td>Female</td>\n",
              "      <td>No</td>\n",
              "      <td>0</td>\n",
              "      <td>Graduate</td>\n",
              "      <td>Yes</td>\n",
              "      <td>4583</td>\n",
              "      <td>0.0</td>\n",
              "      <td>133.0</td>\n",
              "      <td>360.0</td>\n",
              "      <td>0.0</td>\n",
              "      <td>Semiurban</td>\n",
              "      <td>N</td>\n",
              "    </tr>\n",
              "  </tbody>\n",
              "</table>\n",
              "<p>614 rows × 13 columns</p>\n",
              "</div>\n",
              "      <button class=\"colab-df-convert\" onclick=\"convertToInteractive('df-5a32a77b-f4ec-4a04-9159-4dcf48d10f4e')\"\n",
              "              title=\"Convert this dataframe to an interactive table.\"\n",
              "              style=\"display:none;\">\n",
              "        \n",
              "  <svg xmlns=\"http://www.w3.org/2000/svg\" height=\"24px\"viewBox=\"0 0 24 24\"\n",
              "       width=\"24px\">\n",
              "    <path d=\"M0 0h24v24H0V0z\" fill=\"none\"/>\n",
              "    <path d=\"M18.56 5.44l.94 2.06.94-2.06 2.06-.94-2.06-.94-.94-2.06-.94 2.06-2.06.94zm-11 1L8.5 8.5l.94-2.06 2.06-.94-2.06-.94L8.5 2.5l-.94 2.06-2.06.94zm10 10l.94 2.06.94-2.06 2.06-.94-2.06-.94-.94-2.06-.94 2.06-2.06.94z\"/><path d=\"M17.41 7.96l-1.37-1.37c-.4-.4-.92-.59-1.43-.59-.52 0-1.04.2-1.43.59L10.3 9.45l-7.72 7.72c-.78.78-.78 2.05 0 2.83L4 21.41c.39.39.9.59 1.41.59.51 0 1.02-.2 1.41-.59l7.78-7.78 2.81-2.81c.8-.78.8-2.07 0-2.86zM5.41 20L4 18.59l7.72-7.72 1.47 1.35L5.41 20z\"/>\n",
              "  </svg>\n",
              "      </button>\n",
              "      \n",
              "  <style>\n",
              "    .colab-df-container {\n",
              "      display:flex;\n",
              "      flex-wrap:wrap;\n",
              "      gap: 12px;\n",
              "    }\n",
              "\n",
              "    .colab-df-convert {\n",
              "      background-color: #E8F0FE;\n",
              "      border: none;\n",
              "      border-radius: 50%;\n",
              "      cursor: pointer;\n",
              "      display: none;\n",
              "      fill: #1967D2;\n",
              "      height: 32px;\n",
              "      padding: 0 0 0 0;\n",
              "      width: 32px;\n",
              "    }\n",
              "\n",
              "    .colab-df-convert:hover {\n",
              "      background-color: #E2EBFA;\n",
              "      box-shadow: 0px 1px 2px rgba(60, 64, 67, 0.3), 0px 1px 3px 1px rgba(60, 64, 67, 0.15);\n",
              "      fill: #174EA6;\n",
              "    }\n",
              "\n",
              "    [theme=dark] .colab-df-convert {\n",
              "      background-color: #3B4455;\n",
              "      fill: #D2E3FC;\n",
              "    }\n",
              "\n",
              "    [theme=dark] .colab-df-convert:hover {\n",
              "      background-color: #434B5C;\n",
              "      box-shadow: 0px 1px 3px 1px rgba(0, 0, 0, 0.15);\n",
              "      filter: drop-shadow(0px 1px 2px rgba(0, 0, 0, 0.3));\n",
              "      fill: #FFFFFF;\n",
              "    }\n",
              "  </style>\n",
              "\n",
              "      <script>\n",
              "        const buttonEl =\n",
              "          document.querySelector('#df-5a32a77b-f4ec-4a04-9159-4dcf48d10f4e button.colab-df-convert');\n",
              "        buttonEl.style.display =\n",
              "          google.colab.kernel.accessAllowed ? 'block' : 'none';\n",
              "\n",
              "        async function convertToInteractive(key) {\n",
              "          const element = document.querySelector('#df-5a32a77b-f4ec-4a04-9159-4dcf48d10f4e');\n",
              "          const dataTable =\n",
              "            await google.colab.kernel.invokeFunction('convertToInteractive',\n",
              "                                                     [key], {});\n",
              "          if (!dataTable) return;\n",
              "\n",
              "          const docLinkHtml = 'Like what you see? Visit the ' +\n",
              "            '<a target=\"_blank\" href=https://colab.research.google.com/notebooks/data_table.ipynb>data table notebook</a>'\n",
              "            + ' to learn more about interactive tables.';\n",
              "          element.innerHTML = '';\n",
              "          dataTable['output_type'] = 'display_data';\n",
              "          await google.colab.output.renderOutput(dataTable, element);\n",
              "          const docLink = document.createElement('div');\n",
              "          docLink.innerHTML = docLinkHtml;\n",
              "          element.appendChild(docLink);\n",
              "        }\n",
              "      </script>\n",
              "    </div>\n",
              "  </div>\n",
              "  "
            ]
          },
          "metadata": {},
          "execution_count": 2
        }
      ]
    },
    {
      "cell_type": "markdown",
      "source": [
        "1. How many have taken loan in urban area?"
      ],
      "metadata": {
        "id": "XPqoGd-yTN99"
      }
    },
    {
      "cell_type": "code",
      "source": [
        "#Filter the dataframe by choosing only those rows which have property area urban\n",
        "#Filter the dataframe by choosing only those rows which have loan status yes, then printing length of it\n",
        "df_ur=df[df[\"Property_Area\"]==\"Urban\"]\n",
        "df_y=df_ur[df_ur[\"Loan_Status\"]==\"Y\"]\n",
        "print(\"There are \"+str(len(df_y))+\" persons in urban area, who has taken loan.\")"
      ],
      "metadata": {
        "colab": {
          "base_uri": "https://localhost:8080/"
        },
        "id": "hqSMCLxyTX4A",
        "outputId": "0539fc71-056d-451d-a3b6-b40497da125e"
      },
      "execution_count": null,
      "outputs": [
        {
          "output_type": "stream",
          "name": "stdout",
          "text": [
            "There are 133 persons in urban area, who has taken loan.\n"
          ]
        }
      ]
    },
    {
      "cell_type": "markdown",
      "source": [
        "2. How many are not graduate in urban area?"
      ],
      "metadata": {
        "id": "_1zFIjRuTYOo"
      }
    },
    {
      "cell_type": "code",
      "source": [
        "#Filter the dataframe by choosing only those rows which have property area urban\n",
        "#Filter the dataframe by choosing only those rows which have education not graduate, then printing the length of it\n",
        "df_ur=df[df[\"Property_Area\"]==\"Urban\"]\n",
        "df_n=df_ur[df_ur[\"Education\"]==\"Not Graduate\"]\n",
        "print(\"There are \"+str(len(df_n))+\" persons, who are not educated in urban area.\")"
      ],
      "metadata": {
        "colab": {
          "base_uri": "https://localhost:8080/"
        },
        "id": "Izzfq5gEThWV",
        "outputId": "33deea86-9fdf-48c0-c77f-bbdf24639873"
      },
      "execution_count": null,
      "outputs": [
        {
          "output_type": "stream",
          "name": "stdout",
          "text": [
            "There are 40 persons, who are not educated in urban area.\n"
          ]
        }
      ]
    },
    {
      "cell_type": "markdown",
      "source": [
        "3. How many people in urban area having 0 credit history?"
      ],
      "metadata": {
        "id": "gOFu8zLkTh2I"
      }
    },
    {
      "cell_type": "code",
      "source": [
        "#Filter the dataframe by choosing only those rows which have property area urban\n",
        "#Filter the dataframe by choosing only those rows which have credit history 0, then printing the length of it\n",
        "df_ur=df[df[\"Property_Area\"]==\"Urban\"]\n",
        "df_0=df_ur[df_ur[\"Credit_History\"]==0]\n",
        "print(\"There are \"+str(len(df_0))+\" persons who have 0 credit history in urban area.\")"
      ],
      "metadata": {
        "colab": {
          "base_uri": "https://localhost:8080/"
        },
        "id": "nZwuhlQQULFY",
        "outputId": "41414679-8be5-44f3-95d9-08cb159ac5b7"
      },
      "execution_count": null,
      "outputs": [
        {
          "output_type": "stream",
          "name": "stdout",
          "text": [
            "There are 31 persons who have 0 credit history in urban area.\n"
          ]
        }
      ]
    },
    {
      "cell_type": "markdown",
      "source": [
        "4. How many people in rural area having loan amount above 250?"
      ],
      "metadata": {
        "id": "hjWAq8P5ULZz"
      }
    },
    {
      "cell_type": "code",
      "source": [
        "#Filter the dataframe by choosing only those rows which have property area rural\n",
        "#Filter the dataframe by choosing only those rows which have loan amount more than 250, then displaying the required columns from dataframe\n",
        "df_ru=df[df[\"Property_Area\"]==\"Rural\"]\n",
        "df_250=df_ru[df_ru[\"LoanAmount\"]>=250]\n",
        "df_250=df_250.sort_values(by  =\"LoanAmount\", ascending=False)\n",
        "df_250.plot(x=\"Loan_ID\",y=\"LoanAmount\",kind=\"bar\",figsize=(10,6))"
      ],
      "metadata": {
        "colab": {
          "base_uri": "https://localhost:8080/",
          "height": 446
        },
        "id": "q_5Q8AJ9U-tL",
        "outputId": "7d16cd26-c076-46e6-fa4a-1447769ea2c1"
      },
      "execution_count": null,
      "outputs": [
        {
          "output_type": "execute_result",
          "data": {
            "text/plain": [
              "<matplotlib.axes._subplots.AxesSubplot at 0x7f8c25c52650>"
            ]
          },
          "metadata": {},
          "execution_count": 26
        },
        {
          "output_type": "display_data",
          "data": {
            "text/plain": [
              "<Figure size 720x432 with 1 Axes>"
            ],
            "image/png": "[encoded data removed]"
          },
          "metadata": {
            "needs_background": "light"
          }
        }
      ]
    },
    {
      "cell_type": "markdown",
      "source": [
        "5. Describe the dependents scenario."
      ],
      "metadata": {
        "id": "c-fnKlQXU_O3"
      }
    },
    {
      "cell_type": "code",
      "source": [
        "#Making another dataframe by converting that list of Dependents,Frequency\n",
        "#And then display it by the help of matplotlib graphs\n",
        "data=[]\n",
        "for item in df[\"Dependents\"].unique():\n",
        "  data.append([item, len(df[df[\"Dependents\"]==item])])\n",
        "data=pd.DataFrame(data, columns=([\"Dependents\",\"Freq\"]))\n",
        "data=data.sort_values(by=\"Freq\", ascending=False)\n",
        "data.plot(x=\"Dependents\",y=\"Freq\",kind=\"bar\",figsize=(10,6))"
      ],
      "metadata": {
        "colab": {
          "base_uri": "https://localhost:8080/",
          "height": 415
        },
        "id": "s7OuFuRPVann",
        "outputId": "068a4e92-ff16-47f9-fab5-2ad0727f3390"
      },
      "execution_count": null,
      "outputs": [
        {
          "output_type": "execute_result",
          "data": {
            "text/plain": [
              "<matplotlib.axes._subplots.AxesSubplot at 0x7f8c2509bad0>"
            ]
          },
          "metadata": {},
          "execution_count": 32
        },
        {
          "output_type": "display_data",
          "data": {
            "text/plain": [
              "<Figure size 720x432 with 1 Axes>"
            ],
            "image/png": "[encoded data removed]"
          },
          "metadata": {
            "needs_background": "light"
          }
        }
      ]
    },
    {
      "cell_type": "markdown",
      "source": [
        "6. Describe the self employed scenario."
      ],
      "metadata": {
        "id": "ZMw0xQ3vVeOI"
      }
    },
    {
      "cell_type": "code",
      "source": [
        "#Making another dataframe by converting that list of Self_Employed,Frequency\n",
        "#And then display it by the help of matplotlib graphs\n",
        "data=[]\n",
        "for item in df[\"Self_Employed\"].unique():\n",
        "  data.append([item, len(df[df[\"Self_Employed\"]==item])])\n",
        "data=pd.DataFrame(data, columns=([\"Self_Employed\",\"Freq\"]))\n",
        "data=data.sort_values(by=\"Freq\", ascending=False)\n",
        "data.plot(x=\"Self_Employed\",y=\"Freq\",kind=\"bar\",figsize=(10,6))"
      ],
      "metadata": {
        "colab": {
          "base_uri": "https://localhost:8080/",
          "height": 416
        },
        "id": "Vbk7AGeoVlf2",
        "outputId": "9f0b2bde-aa79-4c2d-ca8f-f0bd5a4492e8"
      },
      "execution_count": null,
      "outputs": [
        {
          "output_type": "execute_result",
          "data": {
            "text/plain": [
              "<matplotlib.axes._subplots.AxesSubplot at 0x7f8c2502c250>"
            ]
          },
          "metadata": {},
          "execution_count": 34
        },
        {
          "output_type": "display_data",
          "data": {
            "text/plain": [
              "<Figure size 720x432 with 1 Axes>"
            ],
            "image/png": "[encoded data removed]"
          },
          "metadata": {
            "needs_background": "light"
          }
        }
      ]
    },
    {
      "cell_type": "markdown",
      "source": [
        "7. Describe the loan amount term scenario."
      ],
      "metadata": {
        "id": "brQJhonGVl3c"
      }
    },
    {
      "cell_type": "code",
      "source": [
        "#Making another dataframe by converting that list of Loan_Amount_Term,Frequency\n",
        "#And then display it by the help of matplotlib graphs\n",
        "data=[]\n",
        "for item in df[\"Loan_Amount_Term\"].unique():\n",
        "  data.append([item, len(df[df[\"Loan_Amount_Term\"]==item])])\n",
        "data=pd.DataFrame(data, columns=([\"Loan_Amount_Term\",\"Freq\"]))\n",
        "data=data.sort_values(by=\"Loan_Amount_Term\", ascending=False)\n",
        "data.plot(x=\"Loan_Amount_Term\",y=\"Freq\",kind=\"bar\",figsize=(10,6))"
      ],
      "metadata": {
        "colab": {
          "base_uri": "https://localhost:8080/",
          "height": 425
        },
        "id": "_SR4yR43V3KP",
        "outputId": "4d2a2be8-4cd2-4afa-9f79-f04fcf0dddcf"
      },
      "execution_count": null,
      "outputs": [
        {
          "output_type": "execute_result",
          "data": {
            "text/plain": [
              "<matplotlib.axes._subplots.AxesSubplot at 0x7f8c24fbb2d0>"
            ]
          },
          "metadata": {},
          "execution_count": 36
        },
        {
          "output_type": "display_data",
          "data": {
            "text/plain": [
              "<Figure size 720x432 with 1 Axes>"
            ],
            "image/png": "[encoded data removed]"
          },
          "metadata": {
            "needs_background": "light"
          }
        }
      ]
    },
    {
      "cell_type": "markdown",
      "source": [
        "8. Describe the education scenario."
      ],
      "metadata": {
        "id": "1sQBBLvCV3pv"
      }
    },
    {
      "cell_type": "code",
      "source": [
        "#Making another dataframe by converting that list of Education,Frequency\n",
        "#And then display it by the help of matplotlib graphs\n",
        "data=[]\n",
        "for item in df[\"Education\"].unique():\n",
        "  data.append([item, len(df[df[\"Education\"]==item])])\n",
        "data=pd.DataFrame(data, columns=([\"Education\",\"Freq\"]))\n",
        "data=data.sort_values(by=\"Freq\", ascending=False)\n",
        "data.plot(x=\"Education\",y=\"Freq\",kind=\"bar\",figsize=(10,6))"
      ],
      "metadata": {
        "colab": {
          "base_uri": "https://localhost:8080/",
          "height": 465
        },
        "id": "uDWgnpFvWJvL",
        "outputId": "3af00a38-e2c7-425b-f952-ea9b49a6cbf4"
      },
      "execution_count": null,
      "outputs": [
        {
          "output_type": "execute_result",
          "data": {
            "text/plain": [
              "<matplotlib.axes._subplots.AxesSubplot at 0x7f8c24ea18d0>"
            ]
          },
          "metadata": {},
          "execution_count": 38
        },
        {
          "output_type": "display_data",
          "data": {
            "text/plain": [
              "<Figure size 720x432 with 1 Axes>"
            ],
            "image/png": "[encoded data removed]"
          },
          "metadata": {
            "needs_background": "light"
          }
        }
      ]
    },
    {
      "cell_type": "markdown",
      "source": [
        "9. Describe the gender scenario."
      ],
      "metadata": {
        "id": "J_TCCfrpWKte"
      }
    },
    {
      "cell_type": "code",
      "source": [
        "#Making another dataframe by converting that list of Gender,Frequency\n",
        "#And then display it by the help of matplotlib graphs\n",
        "data=[]\n",
        "for item in df[\"Gender\"].unique():\n",
        "  data.append([item, len(df[df[\"Gender\"]==item])])\n",
        "data=pd.DataFrame(data, columns=([\"Gender\",\"Freq\"]))\n",
        "data=data.sort_values(by=\"Freq\", ascending=False)\n",
        "data.plot(x=\"Gender\",y=\"Freq\",kind=\"bar\",figsize=(10,6))"
      ],
      "metadata": {
        "colab": {
          "base_uri": "https://localhost:8080/",
          "height": 432
        },
        "id": "L0YrvgO8WTaY",
        "outputId": "91ad1c6e-5d77-4f0d-8765-ad04de3966ec"
      },
      "execution_count": null,
      "outputs": [
        {
          "output_type": "execute_result",
          "data": {
            "text/plain": [
              "<matplotlib.axes._subplots.AxesSubplot at 0x7f8c25012710>"
            ]
          },
          "metadata": {},
          "execution_count": 39
        },
        {
          "output_type": "display_data",
          "data": {
            "text/plain": [
              "<Figure size 720x432 with 1 Axes>"
            ],
            "image/png": "[encoded data removed]"
          },
          "metadata": {
            "needs_background": "light"
          }
        }
      ]
    },
    {
      "cell_type": "markdown",
      "source": [
        "10. How many coapplicant have more income than the average salary of applicant income?"
      ],
      "metadata": {
        "id": "m6Rm3k8nWT-o"
      }
    },
    {
      "cell_type": "code",
      "source": [
        "#Displaying the length of dataframe where CoapplicantIncome is more than the average income of Applicant\n",
        "print(\"There are \"+str(len(df[df[\"CoapplicantIncome\"]>df[\"ApplicantIncome\"].mean()]))+\" coapplicants, who have income more than the average income of applicants.\")"
      ],
      "metadata": {
        "colab": {
          "base_uri": "https://localhost:8080/"
        },
        "id": "9MnEyIU2WtQC",
        "outputId": "e1c34341-439c-4603-b8ba-2644bd40c29e"
      },
      "execution_count": null,
      "outputs": [
        {
          "output_type": "stream",
          "name": "stdout",
          "text": [
            "There are 25 coapplicants, who have income more than the average income of applicants.\n"
          ]
        }
      ]
    },
    {
      "cell_type": "markdown",
      "source": [
        "11. How man have taken loan in rural area?"
      ],
      "metadata": {
        "id": "VRT4TdKVWtn5"
      }
    },
    {
      "cell_type": "code",
      "source": [
        "#Filter the dataframe by choosing only those rows which have property area rural\n",
        "#Filter the dataframe by choosing only those rows which have loan status yes, then printing the length of that dataframe\n",
        "df_ru=df[df[\"Property_Area\"]==\"Rural\"]\n",
        "df_loan=df_ru[df_ru[\"Loan_Status\"]==\"Y\"]\n",
        "print(\"There are \"+str(len(df_loan))+\" persons in rural area, who has taken loan.\")"
      ],
      "metadata": {
        "colab": {
          "base_uri": "https://localhost:8080/"
        },
        "id": "YZ26KH4YW_Tn",
        "outputId": "01ab8c81-b33c-4125-a267-ee14a899935f"
      },
      "execution_count": null,
      "outputs": [
        {
          "output_type": "stream",
          "name": "stdout",
          "text": [
            "There are 110 persons in rural area, who has taken loan.\n"
          ]
        }
      ]
    },
    {
      "cell_type": "markdown",
      "source": [
        "12. How many are graduated in rural area?"
      ],
      "metadata": {
        "id": "MskNxMI4W_kZ"
      }
    },
    {
      "cell_type": "code",
      "source": [
        "#Filter the dataframe by choosing only those rows which have property area rural\n",
        "#Filter the dataframe by choosing only those rows which have education graduate, then printing the length of that dataframe\n",
        "df_ru=df[df[\"Property_Area\"]==\"Rural\"]\n",
        "df_ed=df_ru[df_ru[\"Education\"]==\"Graduate\"]\n",
        "print(\"There are \"+str(len(df_ed))+\" persons are graduated in rural area.\")"
      ],
      "metadata": {
        "colab": {
          "base_uri": "https://localhost:8080/"
        },
        "id": "JYF1o7XnXKjF",
        "outputId": "86bfa40b-b0b3-4cd4-dccb-b87cda5c3ccd"
      },
      "execution_count": null,
      "outputs": [
        {
          "output_type": "stream",
          "name": "stdout",
          "text": [
            "There are 131 persons are graduated in rural area.\n"
          ]
        }
      ]
    },
    {
      "cell_type": "markdown",
      "source": [
        "13. How many have not taken loan in urban area?"
      ],
      "metadata": {
        "id": "2-WHYHUkuAi0"
      }
    },
    {
      "cell_type": "code",
      "source": [
        "#Filter the dataframe by choosing only those rows which have property area urban\n",
        "#Filter the dataframe by choosing only those rows which have loan status no, then printing the length of that dataframe\n",
        "df_ur=df[df[\"Property_Area\"]==\"Urban\"]\n",
        "df_y=df_ur[df_ur[\"Loan_Status\"]==\"N\"]\n",
        "print(\"There are \"+str(len(df_y))+\" persons in urban area, who has not taken loan.\")"
      ],
      "metadata": {
        "colab": {
          "base_uri": "https://localhost:8080/"
        },
        "id": "Xrhkw2xquBCj",
        "outputId": "255024d5-c0e8-4b76-b715-56095e35d796"
      },
      "execution_count": null,
      "outputs": [
        {
          "output_type": "stream",
          "name": "stdout",
          "text": [
            "There are 69 persons in urban area, who has not taken loan.\n"
          ]
        }
      ]
    },
    {
      "cell_type": "markdown",
      "source": [
        "14. How man have not taken loan in rural area?"
      ],
      "metadata": {
        "id": "XJKsDCGwuBjv"
      }
    },
    {
      "cell_type": "code",
      "source": [
        "#Filter the dataframe by choosing only those rows which have property area rural\n",
        "#Filter the dataframe by choosing only those rows which have loan status no, then printing the length of that dataframe\n",
        "df_ru=df[df[\"Property_Area\"]==\"Rural\"]\n",
        "df_loan=df_ru[df_ru[\"Loan_Status\"]==\"N\"]\n",
        "print(\"There are \"+str(len(df_loan))+\" persons in rural area, who has not taken loan.\")"
      ],
      "metadata": {
        "colab": {
          "base_uri": "https://localhost:8080/"
        },
        "id": "q_KBvHG_uCCa",
        "outputId": "bc541ea1-bb3c-4fbd-d158-5f781f38bca6"
      },
      "execution_count": null,
      "outputs": [
        {
          "output_type": "stream",
          "name": "stdout",
          "text": [
            "There are 69 persons in rural area, who has not taken loan.\n"
          ]
        }
      ]
    },
    {
      "cell_type": "markdown",
      "source": [
        "15. Loan amount term distribution according to Loan taken by the person."
      ],
      "metadata": {
        "id": "jo4GHLlyvbk3"
      }
    },
    {
      "cell_type": "code",
      "source": [
        "#Groupby the Loan_Amount_Term column with the count of Loan_ID column\n",
        "df.groupby(\"Loan_Amount_Term\").count()[\"Loan_ID\"].sort_values(ascending=False).plot(kind=\"bar\",figsize=(10,6))"
      ],
      "metadata": {
        "colab": {
          "base_uri": "https://localhost:8080/",
          "height": 425
        },
        "id": "1SOd__OMvdsX",
        "outputId": "460565be-5eda-4508-eb19-8e9fb4db473d"
      },
      "execution_count": null,
      "outputs": [
        {
          "output_type": "execute_result",
          "data": {
            "text/plain": [
              "<matplotlib.axes._subplots.AxesSubplot at 0x7f8c24f9c6d0>"
            ]
          },
          "metadata": {},
          "execution_count": 75
        },
        {
          "output_type": "display_data",
          "data": {
            "text/plain": [
              "<Figure size 720x432 with 1 Axes>"
            ],
            "image/png": "[encoded data removed]"
          },
          "metadata": {
            "needs_background": "light"
          }
        }
      ]
    }
  ]
}